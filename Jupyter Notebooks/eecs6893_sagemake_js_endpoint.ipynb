{
 "cells": [
  {
   "cell_type": "markdown",
   "id": "6ae8e340",
   "metadata": {},
   "source": [
    "# AIS Vessel Mobility Pattern Image Classification using SageMaker JumpStart Pre-Trained Model Endpoint\n",
    "In this notebook, we will classify AIS Vessel Mobility pattern image using AWS SageMaker JumpStart trained model. "
   ]
  },
  {
   "cell_type": "markdown",
   "id": "b6d8c781",
   "metadata": {},
   "source": [
    "### Download test images\n",
    "(https://storage.googleapis.com/download.tensorflow.org/data/ImageNetLabels.txt). [Apache 2.0 License](https://www.apache.org/licenses/LICENSE-2.0)"
   ]
  },
  {
   "cell_type": "code",
   "execution_count": 5,
   "id": "f0d486ef",
   "metadata": {},
   "outputs": [
    {
     "data": {
      "text/html": [
       "<table><tr><td> <img src=\"IMO7618234-2015-09-13-2015-09-13.png\" alt=\"Moored\" style=\"height: 250px;\"/> <figcaption>Moored.png</figcaption></td><td> <img src=\"IMO9263760-2015-09-11-2015-09-13.png\" alt=\"Anchored\" style=\"height: 250px;\"/> <figcaption>Anchored.png</figcaption></td><td> <img src=\"IMO7215654-2015-09-11-2015-09-13.png\" alt=\"Fishing\" style=\"height: 250px;\"/> <figcaption>Fishing.png</figcaption></td><td> <img src=\"IMO7742293-2015-09-11-2015-09-13.png\" alt=\"Underway\" style=\"height: 250px;\"/> <figcaption>Underway.png</figcaption></td></tr></table>"
      ],
      "text/plain": [
       "<IPython.core.display.HTML object>"
      ]
     },
     "execution_count": 5,
     "metadata": {},
     "output_type": "execute_result"
    }
   ],
   "source": [
    "import boto3\n",
    "from IPython.core.display import HTML\n",
    "\n",
    "region = boto3.Session().region_name\n",
    "s3_bucket = f\"eecse-6893-track-images\"\n",
    "key_prefix_m = \"test/Moored\"\n",
    "key_prefix_a = \"test/Anchored\"\n",
    "key_prefix_f = \"test/Fishing\"\n",
    "key_prefix_u = \"test/Underway\"\n",
    "s3 = boto3.client(\"s3\")\n",
    "\n",
    "def download_from_s3(key_prefix, key_filenames):\n",
    "    for key_filename in key_filenames:\n",
    "        s3.download_file(s3_bucket, f\"{key_prefix}/{key_filename}\", key_filename)\n",
    "\n",
    "moored_png = \"IMO7618234-2015-09-13-2015-09-13.png\" \n",
    "anchored_png = \"IMO9263760-2015-09-11-2015-09-13.png\"\n",
    "fishing_png = \"IMO7215654-2015-09-11-2015-09-13.png\"\n",
    "underway_png = \"IMO7742293-2015-09-11-2015-09-13.png\"\n",
    "\n",
    "download_from_s3(key_prefix=key_prefix_m, key_filenames=[moored_png])\n",
    "download_from_s3(key_prefix=key_prefix_a, key_filenames=[anchored_png])\n",
    "download_from_s3(key_prefix=key_prefix_f, key_filenames=[fishing_png])\n",
    "download_from_s3(key_prefix=key_prefix_u, key_filenames=[underway_png])\n",
    "\n",
    "HTML('<table><tr><td> <img src=\"IMO7618234-2015-09-13-2015-09-13.png\" alt=\"Moored\" style=\"height: 250px;\"/> <figcaption>Moored.png</figcaption>'\n",
    "     '</td><td> <img src=\"IMO9263760-2015-09-11-2015-09-13.png\" alt=\"Anchored\" style=\"height: 250px;\"/> <figcaption>Anchored.png</figcaption>'\n",
    "     '</td><td> <img src=\"IMO7215654-2015-09-11-2015-09-13.png\" alt=\"Fishing\" style=\"height: 250px;\"/> <figcaption>Fishing.png</figcaption>'\n",
    "     '</td><td> <img src=\"IMO7742293-2015-09-11-2015-09-13.png\" alt=\"Underway\" style=\"height: 250px;\"/> <figcaption>Underway.png</figcaption>'\n",
    "     '</td>'\n",
    "     '</tr></table>')"
   ]
  },
  {
   "cell_type": "markdown",
   "id": "239c4d99",
   "metadata": {},
   "source": [
    "### Open the downloaded images and load in memory"
   ]
  },
  {
   "cell_type": "code",
   "execution_count": 6,
   "id": "8338718f",
   "metadata": {},
   "outputs": [],
   "source": [
    "images = {}\n",
    "with open(moored_png, 'rb') as file: images[moored_png] = file.read()\n",
    "with open(anchored_png, 'rb') as file: images[anchored_png] = file.read()\n",
    "with open(fishing_png, 'rb') as file: images[fishing_png] = file.read()\n",
    "with open(underway_png, 'rb') as file: images[underway_png] = file.read()"
   ]
  },
  {
   "cell_type": "markdown",
   "id": "b9a87d00",
   "metadata": {},
   "source": [
    "### Query endpoint created from SageMaker JumpStart (MobileNetV2) after training the model using our training data\n",
    "We trained MobileNetV2 pre-trained (ImageNet dataset trained) model that is trained on our training data and deployed as SageMaket endpoint using AWS SageMaker JumpStart studio."
   ]
  },
  {
   "cell_type": "code",
   "execution_count": 7,
   "id": "ef869009",
   "metadata": {},
   "outputs": [
    {
     "data": {
      "text/html": [
       "<img src=\"IMO7618234-2015-09-13-2015-09-13.png\" alt=IMO7618234-2015-09-13-2015-09-13.png align=\"left\" style=\"width: 250px;\"/><figcaption>Top-4 model predictions are: Moored, Underway, Anchored, Fishing</figcaption>"
      ],
      "text/plain": [
       "<IPython.core.display.HTML object>"
      ]
     },
     "metadata": {},
     "output_type": "display_data"
    },
    {
     "data": {
      "text/html": [
       "<img src=\"IMO9263760-2015-09-11-2015-09-13.png\" alt=IMO9263760-2015-09-11-2015-09-13.png align=\"left\" style=\"width: 250px;\"/><figcaption>Top-4 model predictions are: Anchored, Underway, Moored, Fishing</figcaption>"
      ],
      "text/plain": [
       "<IPython.core.display.HTML object>"
      ]
     },
     "metadata": {},
     "output_type": "display_data"
    },
    {
     "data": {
      "text/html": [
       "<img src=\"IMO7215654-2015-09-11-2015-09-13.png\" alt=IMO7215654-2015-09-11-2015-09-13.png align=\"left\" style=\"width: 250px;\"/><figcaption>Top-4 model predictions are: Anchored, Underway, Fishing, Moored</figcaption>"
      ],
      "text/plain": [
       "<IPython.core.display.HTML object>"
      ]
     },
     "metadata": {},
     "output_type": "display_data"
    },
    {
     "data": {
      "text/html": [
       "<img src=\"IMO7742293-2015-09-11-2015-09-13.png\" alt=IMO7742293-2015-09-11-2015-09-13.png align=\"left\" style=\"width: 250px;\"/><figcaption>Top-4 model predictions are: Anchored, Underway, Fishing, Moored</figcaption>"
      ],
      "text/plain": [
       "<IPython.core.display.HTML object>"
      ]
     },
     "metadata": {},
     "output_type": "display_data"
    }
   ],
   "source": [
    "import json\n",
    "image_labels = [ 'Anchored', 'Fishing', 'Moored', 'Underway' ]\n",
    "\n",
    "def query_endpoint(img):\n",
    "    endpoint_name = 'jumpstart-ftc-tf-ic-tf2-preview-mobilenet-v2-classific'\n",
    "    client = boto3.client('runtime.sagemaker')\n",
    "    response = client.invoke_endpoint(EndpointName=endpoint_name, \n",
    "                                      ContentType='application/x-image', \n",
    "                                      Body=img)\n",
    "    model_predictions = json.loads(response['Body'].read())['predictions'][0]\n",
    "    return model_predictions\n",
    "\n",
    "for filename, img in images.items():\n",
    "    model_predictions = query_endpoint(img)  \n",
    "    top4_prediction_ids = sorted(range(len(model_predictions)), key=lambda index: model_predictions[index], reverse=True)[:4]\n",
    "    top4_class_labels = \", \".join([image_labels[id] for id in top4_prediction_ids])\n",
    "    display(HTML(f'<img src=\"{filename}\" alt={filename} align=\"left\" style=\"width: 250px;\"/>' \n",
    "                 f'<figcaption>Model predictions (in order) are: {top4_class_labels}</figcaption>'))"
   ]
  },
  {
   "cell_type": "markdown",
   "id": "d15820cf",
   "metadata": {},
   "source": [
    "### Query endpoint created from SageMaker JumpStart (EfficientNetB0) after training the model using our training data\n",
    "We trained EfficientNetB0 pre-trained (ImageNet dataset trained) model that is trained on our training data and deployed as SageMaket endpoint using AWS SageMaker JumpStart studio."
   ]
  },
  {
   "cell_type": "code",
   "execution_count": 10,
   "id": "afa4dda2",
   "metadata": {},
   "outputs": [
    {
     "data": {
      "text/html": [
       "<img src=\"IMO7618234-2015-09-13-2015-09-13.png\" alt=IMO7618234-2015-09-13-2015-09-13.png align=\"center\" style=\"width: 250px;\"/><figcaption align=\"center\">Model predictions (in order) are: Moored, Underway, Fishing, Anchored</figcaption>"
      ],
      "text/plain": [
       "<IPython.core.display.HTML object>"
      ]
     },
     "metadata": {},
     "output_type": "display_data"
    },
    {
     "data": {
      "text/html": [
       "<img src=\"IMO9263760-2015-09-11-2015-09-13.png\" alt=IMO9263760-2015-09-11-2015-09-13.png align=\"center\" style=\"width: 250px;\"/><figcaption align=\"center\">Model predictions (in order) are: Anchored, Moored, Underway, Fishing</figcaption>"
      ],
      "text/plain": [
       "<IPython.core.display.HTML object>"
      ]
     },
     "metadata": {},
     "output_type": "display_data"
    },
    {
     "data": {
      "text/html": [
       "<img src=\"IMO7215654-2015-09-11-2015-09-13.png\" alt=IMO7215654-2015-09-11-2015-09-13.png align=\"center\" style=\"width: 250px;\"/><figcaption align=\"center\">Model predictions (in order) are: Fishing, Underway, Anchored, Moored</figcaption>"
      ],
      "text/plain": [
       "<IPython.core.display.HTML object>"
      ]
     },
     "metadata": {},
     "output_type": "display_data"
    },
    {
     "data": {
      "text/html": [
       "<img src=\"IMO7742293-2015-09-11-2015-09-13.png\" alt=IMO7742293-2015-09-11-2015-09-13.png align=\"center\" style=\"width: 250px;\"/><figcaption align=\"center\">Model predictions (in order) are: Moored, Anchored, Underway, Fishing</figcaption>"
      ],
      "text/plain": [
       "<IPython.core.display.HTML object>"
      ]
     },
     "metadata": {},
     "output_type": "display_data"
    }
   ],
   "source": [
    "import json\n",
    "image_labels = [ 'Anchored', 'Fishing', 'Moored', 'Underway' ]\n",
    "\n",
    "def query_endpoint(img):\n",
    "    endpoint_name = 'jumpstart-ftc-tf-ic-efficientnet-b0-classification-1'\n",
    "    client = boto3.client('runtime.sagemaker')\n",
    "    response = client.invoke_endpoint(EndpointName=endpoint_name, \n",
    "                                      ContentType='application/x-image', \n",
    "                                      Body=img)\n",
    "    model_predictions = json.loads(response['Body'].read())['predictions'][0]\n",
    "    return model_predictions\n",
    "\n",
    "for filename, img in images.items():\n",
    "    model_predictions = query_endpoint(img)  \n",
    "    top4_prediction_ids = sorted(range(len(model_predictions)), key=lambda index: model_predictions[index], reverse=True)[:4]\n",
    "    top4_class_labels = \", \".join([image_labels[id] for id in top4_prediction_ids])\n",
    "    display(HTML(f'<img src=\"{filename}\" alt={filename} align=\"center\" style=\"width: 250px;\"/>' \n",
    "                 f'<figcaption align=\"center\">Model predictions (in order) are: {top4_class_labels}</figcaption>'))"
   ]
  },
  {
   "cell_type": "code",
   "execution_count": null,
   "id": "c086eb6d",
   "metadata": {},
   "outputs": [],
   "source": []
  }
 ],
 "metadata": {
  "kernelspec": {
   "display_name": "conda_amazonei_tensorflow_p36",
   "language": "python",
   "name": "conda_amazonei_tensorflow_p36"
  },
  "language_info": {
   "codemirror_mode": {
    "name": "ipython",
    "version": 3
   },
   "file_extension": ".py",
   "mimetype": "text/x-python",
   "name": "python",
   "nbconvert_exporter": "python",
   "pygments_lexer": "ipython3",
   "version": "3.6.10"
  }
 },
 "nbformat": 4,
 "nbformat_minor": 5
}
